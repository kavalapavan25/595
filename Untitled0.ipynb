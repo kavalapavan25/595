{
  "nbformat": 4,
  "nbformat_minor": 0,
  "metadata": {
    "colab": {
      "provenance": [],
      "authorship_tag": "ABX9TyNO2yXd1LDd9NupFgRDbaH9",
      "include_colab_link": true
    },
    "kernelspec": {
      "name": "python3",
      "display_name": "Python 3"
    },
    "language_info": {
      "name": "python"
    }
  },
  "cells": [
    {
      "cell_type": "markdown",
      "metadata": {
        "id": "view-in-github",
        "colab_type": "text"
      },
      "source": [
        "<a href=\"https://colab.research.google.com/github/kavalapavan25/595/blob/main/Untitled0.ipynb\" target=\"_parent\"><img src=\"https://colab.research.google.com/assets/colab-badge.svg\" alt=\"Open In Colab\"/></a>"
      ]
    },
    {
      "cell_type": "code",
      "execution_count": 31,
      "metadata": {
        "colab": {
          "base_uri": "https://localhost:8080/"
        },
        "id": "tCgboxnPYybB",
        "outputId": "8c439e2e-9a18-4777-d659-107cc7096e8e"
      },
      "outputs": [
        {
          "output_type": "execute_result",
          "data": {
            "text/plain": [
              "6"
            ]
          },
          "metadata": {},
          "execution_count": 31
        }
      ],
      "source": [
        "a='hyderabad'\n",
        "b='aeiou'\n",
        "c=0\n",
        "def p_q(a):\n",
        "  global c\n",
        "  for i in a:\n",
        "      if i.lower() not in b:\n",
        "        c+=1\n",
        "  return c\n",
        "p_q(a)"
      ]
    },
    {
      "cell_type": "code",
      "source": [
        "a=list(map(int,input().split()))\n",
        "b=[]\n",
        "for i in a:\n",
        "  if i%5==0:\n",
        "\n",
        "    b.append(i-5)\n",
        "  else:\n",
        "    b.append(i)\n"
      ],
      "metadata": {
        "colab": {
          "base_uri": "https://localhost:8080/"
        },
        "id": "Dc8Tfo7aaNk4",
        "outputId": "8952849d-cf81-4708-eab2-848a0fec9083"
      },
      "execution_count": 8,
      "outputs": [
        {
          "name": "stdout",
          "output_type": "stream",
          "text": [
            "30 42 56 70 45 35\n"
          ]
        }
      ]
    },
    {
      "cell_type": "code",
      "source": [
        " b"
      ],
      "metadata": {
        "colab": {
          "base_uri": "https://localhost:8080/"
        },
        "id": "x02V3HINbOO_",
        "outputId": "a3a6023e-5468-4ccc-ae3a-013e27d0a149"
      },
      "execution_count": 6,
      "outputs": [
        {
          "output_type": "execute_result",
          "data": {
            "text/plain": [
              "[25, 65, 40, 30]"
            ]
          },
          "metadata": {},
          "execution_count": 6
        }
      ]
    },
    {
      "cell_type": "code",
      "source": [
        "b"
      ],
      "metadata": {
        "colab": {
          "base_uri": "https://localhost:8080/"
        },
        "id": "DFmohBt2bV65",
        "outputId": "c96e2319-7d9f-4605-97f0-ec9ce462878e"
      },
      "execution_count": 9,
      "outputs": [
        {
          "output_type": "execute_result",
          "data": {
            "text/plain": [
              "[25, 42, 56, 65, 40, 30]"
            ]
          },
          "metadata": {},
          "execution_count": 9
        }
      ]
    },
    {
      "cell_type": "code",
      "source": [
        "a=[23,24,45,67,99,54,20]\n",
        "b=[]\n",
        "c=[]\n",
        "e=0\n",
        "f=0\n",
        "for i in a:\n",
        "  if i%2==0:\n",
        "    e += i\n",
        "    b.append(e)\n",
        "  elif i%2!=0:\n",
        "    f += i\n",
        "    c.append(f)\n",
        "print(b)\n",
        "print(c)"
      ],
      "metadata": {
        "colab": {
          "base_uri": "https://localhost:8080/"
        },
        "id": "Ui_cJ0kNb8bV",
        "outputId": "2cfa6114-dacf-4b18-e861-75785fc1a021"
      },
      "execution_count": 31,
      "outputs": [
        {
          "output_type": "stream",
          "name": "stdout",
          "text": [
            "[24, 78, 98]\n",
            "[23, 68, 135, 234]\n"
          ]
        }
      ]
    },
    {
      "cell_type": "code",
      "source": [
        "b"
      ],
      "metadata": {
        "colab": {
          "base_uri": "https://localhost:8080/"
        },
        "id": "vXXoCB6kcHhV",
        "outputId": "c85cf9e8-8778-4c18-abb9-8552811d2066"
      },
      "execution_count": 34,
      "outputs": [
        {
          "output_type": "execute_result",
          "data": {
            "text/plain": [
              "[24, 78, 98]"
            ]
          },
          "metadata": {},
          "execution_count": 34
        }
      ]
    },
    {
      "cell_type": "code",
      "source": [
        "c"
      ],
      "metadata": {
        "colab": {
          "base_uri": "https://localhost:8080/"
        },
        "id": "gbQLiCf2fHAH",
        "outputId": "559b526d-a73f-4bc5-c9e9-3bb947d482c5"
      },
      "execution_count": 35,
      "outputs": [
        {
          "output_type": "execute_result",
          "data": {
            "text/plain": [
              "[23, 68, 135, 234]"
            ]
          },
          "metadata": {},
          "execution_count": 35
        }
      ]
    },
    {
      "cell_type": "code",
      "source": [
        "b=[]\n",
        "c=[]\n",
        "e=0\n",
        "f=0\n",
        "def l_q(a):\n",
        "  global e, f\n",
        "  b=[]\n",
        "  c=[]\n",
        "  for i in range(1,len(a)):\n",
        "    if a[i]%2==0:\n",
        "      e += i\n",
        "\n",
        "    elif a[i]%2!=0:\n",
        "      f += i\n",
        "  return e,f\n",
        "a = [20, 35, 45, 30, 60, 75, 85, 45, 25, 40]\n",
        "even_sum, odd_sum = l_q(a)\n"
      ],
      "metadata": {
        "id": "z35hPPJtkPsV"
      },
      "execution_count": 27,
      "outputs": []
    },
    {
      "cell_type": "code",
      "source": [
        "e"
      ],
      "metadata": {
        "colab": {
          "base_uri": "https://localhost:8080/"
        },
        "id": "8w2br_gGoOKb",
        "outputId": "962d16c9-67d8-46d4-b115-5d8926ead7a6"
      },
      "execution_count": 34,
      "outputs": [
        {
          "output_type": "execute_result",
          "data": {
            "text/plain": [
              "16"
            ]
          },
          "metadata": {},
          "execution_count": 34
        }
      ]
    },
    {
      "cell_type": "code",
      "source": [
        "f"
      ],
      "metadata": {
        "colab": {
          "base_uri": "https://localhost:8080/"
        },
        "id": "SA9gl8O_pNej",
        "outputId": "1355165f-69b1-4fbd-9c4c-90cab2c764bd"
      },
      "execution_count": 29,
      "outputs": [
        {
          "output_type": "execute_result",
          "data": {
            "text/plain": [
              "29"
            ]
          },
          "metadata": {},
          "execution_count": 29
        }
      ]
    },
    {
      "cell_type": "code",
      "source": [
        "s={\"Mumbai\":50,\"Hyd\":40,\"delhi\":30,\"dubai\":20,\"jaipur\":100,\"kol\":350,\"chenn\":280,\"dadar\":200}\n",
        "for i in s:\n",
        "  if s[i]<100:\n",
        "    print(i)\n",
        "\n"
      ],
      "metadata": {
        "colab": {
          "base_uri": "https://localhost:8080/"
        },
        "id": "M3nOW5j0rLR2",
        "outputId": "bc079b4c-73f3-4b7b-8212-181225c95fe3"
      },
      "execution_count": 1,
      "outputs": [
        {
          "output_type": "stream",
          "name": "stdout",
          "text": [
            "Mumbai\n",
            "Hyd\n",
            "delhi\n",
            "dubai\n"
          ]
        }
      ]
    },
    {
      "cell_type": "code",
      "source": [
        "def aoc(radius):\n",
        "  area=3"
      ],
      "metadata": {
        "id": "UNeU-9jNJk4H"
      },
      "execution_count": null,
      "outputs": []
    }
  ]
}